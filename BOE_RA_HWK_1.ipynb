{
 "cells": [
  {
   "cell_type": "markdown",
   "id": "425a10d7-caa9-4f84-abff-f528aeb4ab80",
   "metadata": {},
   "source": [
    "# Домашнее задание №1"
   ]
  },
  {
   "cell_type": "code",
   "execution_count": 1,
   "id": "6f4acf2d-e8a0-469a-8463-6dc26521c554",
   "metadata": {},
   "outputs": [],
   "source": [
    "import numpy as np\n",
    "import pandas as pd"
   ]
  },
  {
   "cell_type": "markdown",
   "id": "654c05cb",
   "metadata": {},
   "source": [
    "1."
   ]
  },
  {
   "cell_type": "code",
   "execution_count": 2,
   "id": "34a7db81-664c-4c9b-92c0-d565fa5487fc",
   "metadata": {},
   "outputs": [
    {
     "data": {
      "text/plain": [
       "'Функция рассчитывает долю денег,\\nпотраченных на рекомендованные товары,\\nот всей суммы потраченных денег.\\n\\nmoney recall@k рассчитывает долю денег, потраченных пользователем на покупку\\nрекомендованных товаров, от всей суммы потраченных пользователем денег.\\nОтличие от обычного recall@k в том, что учитывается не только количество купленных\\nрекомендованных товаров, но и их стоимость.\\nТо есть если из 5 рекомендованных товаров 3 были куплены на сумму 5000 рублей,\\nа всего пользователь потратил 10000 рублей, то money recall@5 = 5000/10000 = 0.5 или 50%.\\nЭто позволяет оценить, насколько хорошо рекомендательная система\\nпредлагает действительно выгодные и интересные для пользователя товары.\\nЧем выше money recall@k, тем лучше.\\n'"
      ]
     },
     "execution_count": 2,
     "metadata": {},
     "output_type": "execute_result"
    }
   ],
   "source": [
    "\"\"\"\n",
    "Функция для расчета метрики recall@k \n",
    "recall@k - доля релевантных объектов, попавших в топ-k рекомендаций\n",
    "\n",
    "Параметры:\n",
    "    bought_list - список купленных пользователем товаров\n",
    "    recommended_list - список рекомендованных пользователю товаров\n",
    "    k - параметр топа рекомендаций, по умолчанию равен 5\n",
    "\"\"\"\n",
    "def recall_at_k(recommended_list, bought_list, k=5):\n",
    "    \n",
    "    \n",
    "    # Преобразуем списки в numpy массивы\n",
    "    # Это сделано для удобства работы с данными \n",
    "    bought_list = np.array(bought_list)\n",
    "    recommended_list = np.array(recommended_list)\n",
    "    \n",
    "    #TODO: \n",
    "    # Берем из массива recommended_list первые k элементов. Это позволяет получить топ-k рекомендаций\n",
    "    top_k = recommended_list[:k]\n",
    "\n",
    "    # Находим пересечение между массивами bought_list и top_k\n",
    "    # Это позволяет найти объекты, которые были \n",
    "    # куплены пользователем (bought_list) и попали в рекомендации (top_k)\n",
    "    bought_recommended = np.intersect1d(bought_list, top_k)\n",
    "\n",
    "    # Подсчитываем долю (proportions) объектов из bought_list, \n",
    "    # которые вошли в топ-k рекомендаций (bought_recommended)\n",
    "    # Это и есть значение метрики recall@k\n",
    "    recall = len(bought_recommended) / len(bought_list)\n",
    "\n",
    "    return recall\n",
    "\n",
    "\"\"\"\n",
    "recall@k рассчитывает долю релевантных объектов (товаров, которые были куплены пользователем),\n",
    "которые попали в топ-K рекомендаций.\n",
    "То есть если из 5 рекомендованных товаров 3 были куплены пользователем,\n",
    "то recall@5 = 3/5 = 0.6 или 60%.\n",
    "Это показатель того, насколько хорошо система рекомендаций предлагает пользователю товары,\n",
    "которые ему действительно интересны и которые он готов купить.\n",
    "\n",
    "Чем выше значение recall@k, тем лучше рекомендательная система\n",
    "предлагает релевантные товары в топе своих рекомендаций.\n",
    "\"\"\"\n",
    "\n",
    "\n",
    "def money_recall_at_k(recommended_list, bought_list, prices_recommended, prices_bought, k=5):\n",
    "    bought_list = np.array(bought_list)\n",
    "    recommended_list = np.array(recommended_list)\n",
    "    prices_recommended = np.array(prices_recommended)\n",
    "    prices_bought = np.array(prices_bought)\n",
    "    \n",
    "    #TODO:\n",
    "\n",
    "    # Отбираем первые k рекомендаций\n",
    "    top_k = recommended_list[:k]\n",
    "\n",
    "    # Находим объекты, которые были куплены и попали в рекомендации\n",
    "    bought_recommended = np.intersect1d(bought_list, top_k)\n",
    "\n",
    "    # Считаем сумму цен объектов, которые были куплены и рекомендованы\n",
    "    prices_bought_recommended = prices_bought[np.in1d(bought_list, bought_recommended)]\n",
    "    money_recall = np.sum(prices_bought_recommended) / np.sum(prices_bought)\n",
    "\n",
    "    # Возвращаем значение метрики money recall@k\n",
    "    return money_recall\n",
    "\n",
    "\"\"\"Функция рассчитывает долю денег,\n",
    "потраченных на рекомендованные товары,\n",
    "от всей суммы потраченных денег.\n",
    "\n",
    "money recall@k рассчитывает долю денег, потраченных пользователем на покупку\n",
    "рекомендованных товаров, от всей суммы потраченных пользователем денег.\n",
    "Отличие от обычного recall@k в том, что учитывается не только количество купленных\n",
    "рекомендованных товаров, но и их стоимость.\n",
    "То есть если из 5 рекомендованных товаров 3 были куплены на сумму 5000 рублей,\n",
    "а всего пользователь потратил 10000 рублей, то money recall@5 = 5000/10000 = 0.5 или 50%.\n",
    "Это позволяет оценить, насколько хорошо рекомендательная система\n",
    "предлагает действительно выгодные и интересные для пользователя товары.\n",
    "Чем выше money recall@k, тем лучше.\n",
    "\"\"\""
   ]
  },
  {
   "cell_type": "markdown",
   "id": "b42d4d0d-6073-47b6-ad54-586a477405e5",
   "metadata": {},
   "source": [
    "## Задание 2. Реализовать метрику MRR@k\n",
    "\n",
    "Mean Reciprocal Rank\n",
    "\n",
    "- Считаем для первых k рекоммендаций\n",
    "- Найти ранк первого релевантного предсказания $\\Large rank_j$\n",
    "- Посчитать reciprocal rank = $\\Large\\frac{1}{rank_j}$\n",
    "\n",
    "$$\\Large  ReciprocalRank(i)@k=\\frac {1}{\\min\\limits_{j\\in Rel(i)} rank_j}$$"
   ]
  },
  {
   "cell_type": "code",
   "execution_count": 3,
   "id": "9c8940da-3621-4a54-8236-810a42ed4b77",
   "metadata": {},
   "outputs": [
    {
     "ename": "IndentationError",
     "evalue": "expected an indented block (2754340534.py, line 14)",
     "output_type": "error",
     "traceback": [
      "\u001b[1;36m  File \u001b[1;32m\"C:\\Users\\u187s\\AppData\\Local\\Temp\\ipykernel_12048\\2754340534.py\"\u001b[1;36m, line \u001b[1;32m14\u001b[0m\n\u001b[1;33m    rr = 1 / (idx[0] + 1)\u001b[0m\n\u001b[1;37m    ^\u001b[0m\n\u001b[1;31mIndentationError\u001b[0m\u001b[1;31m:\u001b[0m expected an indented block\n"
     ]
    }
   ],
   "source": [
    "def reciprocal_rank_at_k(recommended_list, bought_list, k=5):\n",
    "    bought_list = np.array(bought_list)\n",
    "    recommended_list = np.array(recommended_list)\n",
    "    \n",
    "    #TODO: \n",
    "    # Берем первые k рекомендаций\n",
    "    top_k = recommended_list[:k]\n",
    "\n",
    "    # Ищем индекс первого совпадения между bought_list и top_k\n",
    "    idx = np.where(np.in1d(top_k, bought_list))[0]\n",
    "\n",
    "    # Если совпадение найдено, вычисляем reciprocal rank\n",
    "    if idx.size > 0:\n",
    "    rr = 1 / (idx[0] + 1)\n",
    "\n",
    "    # Иначе reciprocal rank = 0  \n",
    "    else:\n",
    "    rr = 0\n",
    "\n",
    "    return rr\n",
    "\n",
    "\"\"\"\n",
    "Функция вычисляет reciprocal rank - величину,\n",
    "обратную позиции первого релевантного объекта в топ-k рекомендациях.\n",
    "\n",
    "Другими словами, на какой позиции в списке рекомендаций находится первый релевантный (подходящий) объект.\n",
    "Например, если первый подходящий объект на 5-м месте в списке из 10 рекомендаций, то reciprocal rank будет равен 1/5 = 0,2.\n",
    "Чем выше эта метрика, тем лучше - значит, подходящий объект находится ближе к началу списка рекомендаций.\n",
    "Если в топ-10 рекомендаций не оказалось ни одного релевантного объекта, то reciprocal rank будет равен 0.\n",
    "Таким образом, эта метрика показывает, насколько \"глубоко\" нужно заглянуть в список рекомендаций, чтобы найти подходящий вариант.\n",
    "\"\"\""
   ]
  },
  {
   "cell_type": "markdown",
   "id": "1c3008cc-fd9e-44c6-8913-43d71ffb9cd7",
   "metadata": {},
   "source": [
    "## Задание 3*. Реализовать метрику nDCG@k\n",
    "Normalized discounted cumulative gain. Эту метрику реализовать будет немного сложнее.\n",
    "\n",
    "$$\\Large DCG@K(i) = \\sum_{j=1}^{K}\\frac{\\mathbb{1}_{r_{ij}}}{\\log_2 (j+1)}$$\n",
    "\n",
    "\n",
    "$\\Large \\mathbb{1}_{r_{ij}}$ -- индикаторная функция показывает что пользователь $i$ провзаимодействовал с продуктом $j$\n",
    "\n",
    "Для подсчета $nDCG$ нам необходимо найти максимально возможный $DCG$ для пользователя $i$  и рекомендаций длины $K$.\n",
    "Максимальный $DCG$ достигается когда мы порекомендовали максимально возможное количество релевантных продуктов и все они в начале списка рекомендаций.\n",
    "\n",
    "$$\\Large IDCG@K(i) = max(DCG@K(i)) = \\sum_{j=1}^{K}\\frac{\\mathbb{1}_{j\\le|Rel_i|}}{\\log_2 (j+1)}$$\n",
    "\n",
    "$$\\Large nDCG@K(i) = \\frac {DCG@K(i)}{IDCG@K(i)}$$\n",
    "\n",
    "$\\Large |Rel_i|$ -- количество релевантных продуктов для пользователя $i$\n",
    "\n"
   ]
  },
  {
   "cell_type": "code",
   "execution_count": 4,
   "id": "67d7e53c-dfd8-4423-a107-f85880a45c7e",
   "metadata": {},
   "outputs": [
    {
     "data": {
      "text/plain": [
       "'\\nNDCG@k оценивает качество ранжирования рекомендаций с учетом релевантности.\\n\\nТо есть насколько хорошо подобраны рекомендуемые товары для пользователя.\\nДля этого сначала подсчитывается сумма баллов полезности реального списка рекомендаций (dcg).\\nЗатем вычисляется максимально возможная сумма баллов полезности для идеального списка (idcg).\\nЧем ближе реальная сумма баллов к максимальной, тем лучше подобраны рекомендации для пользователя.\\nNDCG@k - это отношение реальной суммы баллов к максимальной. Это показатель того, насколько хорош реальный список рекомендаций.\\n'"
      ]
     },
     "execution_count": 4,
     "metadata": {},
     "output_type": "execute_result"
    }
   ],
   "source": [
    "def ndcg_at_k(recommended_list, bought_list, k=5):\n",
    "    bought_list = np.array(bought_list)\n",
    "    recommended_list = np.array(recommended_list)\n",
    "    \n",
    "    #TODO: \n",
    "    \n",
    "    # Берем первые k рекомендаций\n",
    "    top_k = recommended_list[:k]\n",
    "\n",
    "    # Считаем рейтинги релевантности объектов из bought_list\n",
    "    # в top_k (1 - релевантен, 0 - нерелевантен)\n",
    "    relevance = np.in1d(top_k, bought_list).astype(int)\n",
    "\n",
    "    # Вычисляем дисконтированную сумму рейтингов релевантности\n",
    "    dcg = relevance[0] + np.sum(relevance[1:] / np.log2(np.arange(2, k + 1)))\n",
    "\n",
    "    # Вычисляем идеальную дисконтированную сумму рейтингов\n",
    "    ideal_dcg = np.sort(relevance)[::-1]\n",
    "    idcg = ideal_dcg[0] + np.sum(ideal_dcg[1:] / np.log2(np.arange(2, k + 1)))\n",
    "\n",
    "    # Вычисляем NDCG@k как отношение dcg к idcg\n",
    "    ndcg = dcg / idcg\n",
    "\n",
    "    return ndcg\n",
    "\n",
    "\"\"\"\n",
    "NDCG@k оценивает качество ранжирования рекомендаций с учетом релевантности.\n",
    "\n",
    "То есть насколько хорошо подобраны рекомендуемые товары для пользователя.\n",
    "Для этого сначала подсчитывается сумма баллов полезности реального списка рекомендаций (dcg).\n",
    "Затем вычисляется максимально возможная сумма баллов полезности для идеального списка (idcg).\n",
    "Чем ближе реальная сумма баллов к максимальной, тем лучше подобраны рекомендации для пользователя.\n",
    "NDCG@k - это отношение реальной суммы баллов к максимальной. Это показатель того, насколько хорош реальный список рекомендаций.\n",
    "\"\"\"\n",
    "    "
   ]
  },
  {
   "cell_type": "code",
   "execution_count": null,
   "id": "8ba5f22c",
   "metadata": {},
   "outputs": [],
   "source": []
  }
 ],
 "metadata": {
  "kernelspec": {
   "display_name": "Python 3 (ipykernel)",
   "language": "python",
   "name": "python3"
  },
  "language_info": {
   "codemirror_mode": {
    "name": "ipython",
    "version": 3
   },
   "file_extension": ".py",
   "mimetype": "text/x-python",
   "name": "python",
   "nbconvert_exporter": "python",
   "pygments_lexer": "ipython3",
   "version": "3.9.13"
  }
 },
 "nbformat": 4,
 "nbformat_minor": 5
}
